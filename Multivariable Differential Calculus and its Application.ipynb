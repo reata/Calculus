{
 "cells": [
  {
   "cell_type": "markdown",
   "metadata": {},
   "source": [
    "# 多元函数微分法及其应用\n",
    "\n",
    "本节包括以下内容：\n",
    "1. 多元函数的基本概念\n",
    "2. 偏导数\n",
    "3. 全微分\n",
    "4. 多元复合函数的求导法则\n",
    "5. 隐函数的求导公式\n",
    "6. 多元函数微分学的几何应用\n",
    "7. 方向导数和梯度\n",
    "8. 多元函数的极值及其求法\n",
    "9. 二元函数的泰勒公式\n",
    "10. 最小二乘法"
   ]
  },
  {
   "cell_type": "code",
   "execution_count": null,
   "metadata": {
    "collapsed": true
   },
   "outputs": [],
   "source": []
  }
 ],
 "metadata": {
  "kernelspec": {
   "display_name": "Python 3",
   "language": "python",
   "name": "python3"
  },
  "language_info": {
   "codemirror_mode": {
    "name": "ipython",
    "version": 3
   },
   "file_extension": ".py",
   "mimetype": "text/x-python",
   "name": "python",
   "nbconvert_exporter": "python",
   "pygments_lexer": "ipython3",
   "version": "3.6.1"
  }
 },
 "nbformat": 4,
 "nbformat_minor": 2
}
